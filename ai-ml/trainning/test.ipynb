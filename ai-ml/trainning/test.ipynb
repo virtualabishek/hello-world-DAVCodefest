{
 "cells": [
  {
   "cell_type": "markdown",
   "id": "dd133894",
   "metadata": {},
   "source": [
    "# lets test the model\n"
   ]
  },
  {
   "cell_type": "code",
   "execution_count": 2,
   "id": "57d5b2be",
   "metadata": {},
   "outputs": [],
   "source": [
    "import torch\n",
    "from torchvision import transforms, models\n",
    "from PIL import Image\n",
    "import matplotlib.pyplot as plt\n"
   ]
  },
  {
   "cell_type": "code",
   "execution_count": 3,
   "id": "47589eaf",
   "metadata": {},
   "outputs": [
    {
     "name": "stderr",
     "output_type": "stream",
     "text": [
      "d:\\coding\\DAVHACKFEST\\hello-world-DAVCodefest\\ai-ml\\hackfestenv\\lib\\site-packages\\torchvision\\models\\_utils.py:208: UserWarning: The parameter 'pretrained' is deprecated since 0.13 and may be removed in the future, please use 'weights' instead.\n",
      "  warnings.warn(\n",
      "d:\\coding\\DAVHACKFEST\\hello-world-DAVCodefest\\ai-ml\\hackfestenv\\lib\\site-packages\\torchvision\\models\\_utils.py:223: UserWarning: Arguments other than a weight enum or `None` for 'weights' are deprecated since 0.13 and may be removed in the future. The current behavior is equivalent to passing `weights=None`.\n",
      "  warnings.warn(msg)\n",
      "C:\\Users\\LOQ\\AppData\\Local\\Temp\\ipykernel_21516\\4106824009.py:9: FutureWarning: You are using `torch.load` with `weights_only=False` (the current default value), which uses the default pickle module implicitly. It is possible to construct malicious pickle data which will execute arbitrary code during unpickling (See https://github.com/pytorch/pytorch/blob/main/SECURITY.md#untrusted-models for more details). In a future release, the default value for `weights_only` will be flipped to `True`. This limits the functions that could be executed during unpickling. Arbitrary objects will no longer be allowed to be loaded via this mode unless they are explicitly allowlisted by the user via `torch.serialization.add_safe_globals`. We recommend you start setting `weights_only=True` for any use case where you don't have full control of the loaded file. Please open an issue on GitHub for any issues related to this experimental feature.\n",
      "  model.load_state_dict(torch.load(\"plant_disease_model_final.pth\"))\n"
     ]
    },
    {
     "name": "stdout",
     "output_type": "stream",
     "text": [
      "✅ Model loaded and ready.\n"
     ]
    }
   ],
   "source": [
    "# Number of classes must match your training set\n",
    "num_classes = 38  # Update this if different\n",
    "\n",
    "# Load model structure\n",
    "model = models.resnet18(pretrained=False)\n",
    "model.fc = torch.nn.Linear(model.fc.in_features, num_classes)\n",
    "\n",
    "# Load trained weights\n",
    "model.load_state_dict(torch.load(\"plant_disease_model_final.pth\"))\n",
    "model.eval()\n",
    "model.to(\"cuda\" if torch.cuda.is_available() else \"cpu\")\n",
    "\n",
    "print(\"✅ Model loaded and ready.\")\n"
   ]
  },
  {
   "cell_type": "code",
   "execution_count": 4,
   "id": "18176fbf",
   "metadata": {},
   "outputs": [],
   "source": [
    "# Same transform used during training\n",
    "transform = transforms.Compose([\n",
    "    transforms.Resize((224, 224)),\n",
    "    transforms.ToTensor(),\n",
    "    transforms.Normalize([0.5]*3, [0.5]*3)\n",
    "])\n"
   ]
  },
  {
   "cell_type": "code",
   "execution_count": 7,
   "id": "601cadd4",
   "metadata": {},
   "outputs": [
    {
     "name": "stdout",
     "output_type": "stream",
     "text": [
      "🧠 Predicted Class: Squash___Powdery_mildew\n"
     ]
    }
   ],
   "source": [
    "# Replace with the path to your test image\n",
    "img_path = \"./test_images/leave-with-fungus.jpg\"\n",
    "\n",
    "# Load and preprocess\n",
    "image = Image.open(img_path).convert(\"RGB\")\n",
    "input_tensor = transform(image).unsqueeze(0)  # Add batch dimension\n",
    "\n",
    "# Send to device\n",
    "device = torch.device(\"cuda\" if torch.cuda.is_available() else \"cpu\")\n",
    "input_tensor = input_tensor.to(device)\n",
    "\n",
    "# Predict\n",
    "with torch.no_grad():\n",
    "    output = model(input_tensor)\n",
    "    _, predicted = torch.max(output, 1)\n",
    "\n",
    "# Get class names\n",
    "from torchvision.datasets import ImageFolder\n",
    "dataset = ImageFolder('../plantvillagedataset/color')\n",
    "class_names = dataset.classes\n",
    "predicted_class = class_names[predicted.item()]\n",
    "\n",
    "print(f\"🧠 Predicted Class: {predicted_class}\")\n"
   ]
  },
  {
   "cell_type": "code",
   "execution_count": 8,
   "id": "d19349cb",
   "metadata": {},
   "outputs": [
    {
     "name": "stdout",
     "output_type": "stream",
     "text": [
      "🧠 Predicted Class: Squash___Powdery_mildew\n"
     ]
    }
   ],
   "source": [
    "# Replace with the path to your test image\n",
    "img_path = \"./test_images/leave-with-fungus.jpg\"\n",
    "\n",
    "# Load and preprocess\n",
    "image = Image.open(img_path).convert(\"RGB\")\n",
    "input_tensor = transform(image).unsqueeze(0)  # Add batch dimension\n",
    "\n",
    "# Send to device\n",
    "device = torch.device(\"cuda\" if torch.cuda.is_available() else \"cpu\")\n",
    "input_tensor = input_tensor.to(device)\n",
    "\n",
    "# Predict\n",
    "with torch.no_grad():\n",
    "    output = model(input_tensor)\n",
    "    _, predicted = torch.max(output, 1)\n",
    "\n",
    "# Get class names\n",
    "from torchvision.datasets import ImageFolder\n",
    "dataset = ImageFolder('../plantvillagedataset/color')\n",
    "class_names = dataset.classes\n",
    "predicted_class = class_names[predicted.item()]\n",
    "\n",
    "print(f\"🧠 Predicted Class: {predicted_class}\")\n"
   ]
  },
  {
   "cell_type": "code",
   "execution_count": null,
   "id": "6161d5c3",
   "metadata": {},
   "outputs": [],
   "source": []
  }
 ],
 "metadata": {
  "kernelspec": {
   "display_name": "hackfestenv",
   "language": "python",
   "name": "python3"
  },
  "language_info": {
   "codemirror_mode": {
    "name": "ipython",
    "version": 3
   },
   "file_extension": ".py",
   "mimetype": "text/x-python",
   "name": "python",
   "nbconvert_exporter": "python",
   "pygments_lexer": "ipython3",
   "version": "3.9.13"
  }
 },
 "nbformat": 4,
 "nbformat_minor": 5
}
