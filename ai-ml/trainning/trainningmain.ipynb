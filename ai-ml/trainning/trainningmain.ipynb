{
 "cells": [
  {
   "cell_type": "markdown",
   "id": "03ee3d6a",
   "metadata": {},
   "source": [
    "# lets train the model\n"
   ]
  },
  {
   "cell_type": "markdown",
   "id": "4cc10c46",
   "metadata": {},
   "source": [
    "## we have used the dataset from the kaggle \n",
    "link:- `https://www.kaggle.com/datasets/abdallahalidev/plantvillage-dataset/data`\n",
    "\n"
   ]
  },
  {
   "cell_type": "code",
   "execution_count": 2,
   "id": "2ce930f1",
   "metadata": {},
   "outputs": [
    {
     "name": "stdout",
     "output_type": "stream",
     "text": [
      "2.5.1+cu121\n",
      "True\n",
      "NVIDIA GeForce RTX 3050 6GB Laptop GPU\n"
     ]
    }
   ],
   "source": [
    "import torch\n",
    "print(torch.__version__)\n",
    "print(torch.cuda.is_available())        # Should print: True\n",
    "print(torch.cuda.get_device_name(0))    # Should print: NVIDIA GeForce RTX 3050\n"
   ]
  },
  {
   "cell_type": "code",
   "execution_count": 5,
   "id": "02a6f92e",
   "metadata": {},
   "outputs": [],
   "source": [
    "import os\n",
    "import torch\n",
    "import torch.nn as nn\n",
    "import torch.optim as optim\n",
    "from torchvision import datasets, models, transforms\n",
    "from torch.utils.data import DataLoader, random_split\n"
   ]
  },
  {
   "cell_type": "code",
   "execution_count": 8,
   "id": "f2529c22",
   "metadata": {},
   "outputs": [
    {
     "name": "stdout",
     "output_type": "stream",
     "text": [
      "Using: cuda\n"
     ]
    }
   ],
   "source": [
    "#. Device Config + Dataset Path\n",
    "device = torch.device(\"cuda\" if torch.cuda.is_available() else \"cpu\")\n",
    "print(\"Using:\", device)\n",
    "\n",
    "DATASET_PATH = '../plantvillagedataset/color'\n"
   ]
  },
  {
   "cell_type": "code",
   "execution_count": 9,
   "id": "c19ab2a5",
   "metadata": {},
   "outputs": [
    {
     "name": "stdout",
     "output_type": "stream",
     "text": [
      "Total images: 54305\n",
      "Classes: ['Apple___Apple_scab', 'Apple___Black_rot', 'Apple___Cedar_apple_rust', 'Apple___healthy', 'Blueberry___healthy', 'Cherry_(including_sour)___Powdery_mildew', 'Cherry_(including_sour)___healthy', 'Corn_(maize)___Cercospora_leaf_spot Gray_leaf_spot', 'Corn_(maize)___Common_rust_', 'Corn_(maize)___Northern_Leaf_Blight', 'Corn_(maize)___healthy', 'Grape___Black_rot', 'Grape___Esca_(Black_Measles)', 'Grape___Leaf_blight_(Isariopsis_Leaf_Spot)', 'Grape___healthy', 'Orange___Haunglongbing_(Citrus_greening)', 'Peach___Bacterial_spot', 'Peach___healthy', 'Pepper,_bell___Bacterial_spot', 'Pepper,_bell___healthy', 'Potato___Early_blight', 'Potato___Late_blight', 'Potato___healthy', 'Raspberry___healthy', 'Soybean___healthy', 'Squash___Powdery_mildew', 'Strawberry___Leaf_scorch', 'Strawberry___healthy', 'Tomato___Bacterial_spot', 'Tomato___Early_blight', 'Tomato___Late_blight', 'Tomato___Leaf_Mold', 'Tomato___Septoria_leaf_spot', 'Tomato___Spider_mites Two-spotted_spider_mite', 'Tomato___Target_Spot', 'Tomato___Tomato_Yellow_Leaf_Curl_Virus', 'Tomato___Tomato_mosaic_virus', 'Tomato___healthy']\n"
     ]
    }
   ],
   "source": [
    "\n",
    "#  Transform and Dataset Loading\n",
    "\n",
    "transform = transforms.Compose([\n",
    "    transforms.Resize((224, 224)),\n",
    "    transforms.ToTensor(),\n",
    "    transforms.Normalize([0.5, 0.5, 0.5], [0.5, 0.5, 0.5])\n",
    "])\n",
    "\n",
    "full_dataset = datasets.ImageFolder(DATASET_PATH, transform=transform)\n",
    "num_classes = len(full_dataset.classes)\n",
    "\n",
    "print(f\"Total images: {len(full_dataset)}\")\n",
    "print(f\"Classes: {full_dataset.classes}\")\n"
   ]
  },
  {
   "cell_type": "code",
   "execution_count": 10,
   "id": "ac1c5b00",
   "metadata": {},
   "outputs": [],
   "source": [
    "train_size = int(0.8 * len(full_dataset))\n",
    "val_size = len(full_dataset) - train_size\n",
    "train_dataset, val_dataset = random_split(full_dataset, [train_size, val_size])\n",
    "\n",
    "train_loader = DataLoader(train_dataset, batch_size=32, shuffle=True)\n",
    "val_loader = DataLoader(val_dataset, batch_size=32)\n"
   ]
  },
  {
   "cell_type": "code",
   "execution_count": 11,
   "id": "233d797f",
   "metadata": {},
   "outputs": [],
   "source": [
    "model = models.resnet18(pretrained=True)\n",
    "model.fc = nn.Linear(model.fc.in_features, num_classes)\n",
    "model = model.to(device)\n",
    "\n"
   ]
  },
  {
   "cell_type": "code",
   "execution_count": 12,
   "id": "998f0657",
   "metadata": {},
   "outputs": [],
   "source": [
    "criterion = nn.CrossEntropyLoss()\n",
    "optimizer = optim.Adam(model.parameters(), lr=0.001)\n"
   ]
  },
  {
   "cell_type": "code",
   "execution_count": 13,
   "id": "fc8bb99e",
   "metadata": {},
   "outputs": [
    {
     "name": "stdout",
     "output_type": "stream",
     "text": [
      "Epoch [1/5], Loss: 389.5754, Train Accuracy: 91.02%\n",
      "Epoch [2/5], Loss: 163.9958, Train Accuracy: 96.11%\n",
      "Epoch [3/5], Loss: 116.1546, Train Accuracy: 97.15%\n",
      "Epoch [4/5], Loss: 96.3594, Train Accuracy: 97.74%\n",
      "Epoch [5/5], Loss: 83.0326, Train Accuracy: 98.08%\n"
     ]
    }
   ],
   "source": [
    "EPOCHS = 5  # change to 10 or 15 later if needed\n",
    "\n",
    "for epoch in range(EPOCHS):\n",
    "    model.train()\n",
    "    running_loss, correct, total = 0.0, 0, 0\n",
    "\n",
    "    for images, labels in train_loader:\n",
    "        images, labels = images.to(device), labels.to(device)\n",
    "        \n",
    "        optimizer.zero_grad()\n",
    "        outputs = model(images)\n",
    "        loss = criterion(outputs, labels)\n",
    "        loss.backward()\n",
    "        optimizer.step()\n",
    "        \n",
    "        running_loss += loss.item()\n",
    "        _, predicted = torch.max(outputs, 1)\n",
    "        total += labels.size(0)\n",
    "        correct += (predicted == labels).sum().item()\n",
    "\n",
    "    train_acc = 100 * correct / total\n",
    "    print(f\"Epoch [{epoch+1}/{EPOCHS}], Loss: {running_loss:.4f}, Train Accuracy: {train_acc:.2f}%\")\n"
   ]
  },
  {
   "cell_type": "code",
   "execution_count": 14,
   "id": "ede720bb",
   "metadata": {},
   "outputs": [
    {
     "name": "stdout",
     "output_type": "stream",
     "text": [
      "Device being used: cuda\n"
     ]
    }
   ],
   "source": [
    "print(\"Device being used:\", device)\n"
   ]
  },
  {
   "cell_type": "code",
   "execution_count": 15,
   "id": "9df2b18f",
   "metadata": {},
   "outputs": [
    {
     "name": "stdout",
     "output_type": "stream",
     "text": [
      "\n",
      "✅ Validation Accuracy: 97.54%\n"
     ]
    }
   ],
   "source": [
    "model.eval()\n",
    "val_correct, val_total = 0, 0\n",
    "with torch.no_grad():\n",
    "    for images, labels in val_loader:\n",
    "        images, labels = images.to(device), labels.to(device)\n",
    "        outputs = model(images)\n",
    "        _, predicted = torch.max(outputs.data, 1)\n",
    "        val_total += labels.size(0)\n",
    "        val_correct += (predicted == labels).sum().item()\n",
    "\n",
    "val_acc = 100 * val_correct / val_total\n",
    "print(f\"\\n✅ Validation Accuracy: {val_acc:.2f}%\")\n"
   ]
  },
  {
   "cell_type": "code",
   "execution_count": 16,
   "id": "e7f384f7",
   "metadata": {},
   "outputs": [
    {
     "name": "stdout",
     "output_type": "stream",
     "text": [
      "                                                    precision    recall  f1-score   support\n",
      "\n",
      "                                Apple___Apple_scab       0.94      0.98      0.96       118\n",
      "                                 Apple___Black_rot       0.97      0.98      0.97       118\n",
      "                          Apple___Cedar_apple_rust       0.98      1.00      0.99        59\n",
      "                                   Apple___healthy       0.99      0.99      0.99       317\n",
      "                               Blueberry___healthy       0.99      1.00      1.00       306\n",
      "          Cherry_(including_sour)___Powdery_mildew       1.00      1.00      1.00       209\n",
      "                 Cherry_(including_sour)___healthy       0.97      0.99      0.98       149\n",
      "Corn_(maize)___Cercospora_leaf_spot Gray_leaf_spot       0.87      0.94      0.90        85\n",
      "                       Corn_(maize)___Common_rust_       0.99      1.00      0.99       241\n",
      "               Corn_(maize)___Northern_Leaf_Blight       0.98      0.94      0.96       193\n",
      "                            Corn_(maize)___healthy       1.00      1.00      1.00       249\n",
      "                                 Grape___Black_rot       1.00      0.95      0.97       237\n",
      "                      Grape___Esca_(Black_Measles)       0.95      1.00      0.98       255\n",
      "        Grape___Leaf_blight_(Isariopsis_Leaf_Spot)       1.00      1.00      1.00       210\n",
      "                                   Grape___healthy       0.98      1.00      0.99        81\n",
      "          Orange___Haunglongbing_(Citrus_greening)       1.00      1.00      1.00      1116\n",
      "                            Peach___Bacterial_spot       0.98      0.97      0.97       438\n",
      "                                   Peach___healthy       0.76      1.00      0.86        73\n",
      "                     Pepper,_bell___Bacterial_spot       0.98      0.96      0.97       221\n",
      "                            Pepper,_bell___healthy       0.99      0.99      0.99       304\n",
      "                             Potato___Early_blight       1.00      0.99      0.99       208\n",
      "                              Potato___Late_blight       1.00      0.97      0.99       171\n",
      "                                  Potato___healthy       1.00      0.91      0.95        32\n",
      "                               Raspberry___healthy       1.00      0.96      0.98        85\n",
      "                                 Soybean___healthy       1.00      1.00      1.00      1001\n",
      "                           Squash___Powdery_mildew       0.99      1.00      1.00       373\n",
      "                          Strawberry___Leaf_scorch       1.00      0.95      0.97       212\n",
      "                              Strawberry___healthy       1.00      0.99      0.99        88\n",
      "                           Tomato___Bacterial_spot       0.90      0.99      0.94       474\n",
      "                             Tomato___Early_blight       0.92      0.82      0.86       202\n",
      "                              Tomato___Late_blight       0.90      0.98      0.94       412\n",
      "                                Tomato___Leaf_Mold       0.97      0.94      0.95       190\n",
      "                       Tomato___Septoria_leaf_spot       0.99      0.84      0.91       376\n",
      "     Tomato___Spider_mites Two-spotted_spider_mite       0.93      0.98      0.96       327\n",
      "                              Tomato___Target_Spot       0.96      0.96      0.96       272\n",
      "            Tomato___Tomato_Yellow_Leaf_Curl_Virus       1.00      0.97      0.98      1041\n",
      "                      Tomato___Tomato_mosaic_virus       1.00      0.99      0.99        85\n",
      "                                  Tomato___healthy       0.98      1.00      0.99       333\n",
      "\n",
      "                                          accuracy                           0.98     10861\n",
      "                                         macro avg       0.97      0.97      0.97     10861\n",
      "                                      weighted avg       0.98      0.98      0.98     10861\n",
      "\n"
     ]
    }
   ],
   "source": [
    "from sklearn.metrics import classification_report\n",
    "\n",
    "all_preds = []\n",
    "all_labels = []\n",
    "\n",
    "model.eval()\n",
    "with torch.no_grad():\n",
    "    for images, labels in val_loader:\n",
    "        images, labels = images.to(device), labels.to(device)\n",
    "        outputs = model(images)\n",
    "        _, predicted = torch.max(outputs.data, 1)\n",
    "        all_preds.extend(predicted.cpu().numpy())\n",
    "        all_labels.extend(labels.cpu().numpy())\n",
    "\n",
    "print(classification_report(all_labels, all_preds, target_names=full_dataset.classes))\n"
   ]
  },
  {
   "cell_type": "code",
   "execution_count": 17,
   "id": "2ca292fd",
   "metadata": {},
   "outputs": [
    {
     "name": "stdout",
     "output_type": "stream",
     "text": [
      "✅ Model saved successfully!\n"
     ]
    }
   ],
   "source": [
    "\n",
    "# for saving\n",
    "if val_acc >= 90:  # You can set your own threshold\n",
    "    torch.save(model.state_dict(), 'plant_disease_model_final.pth')\n",
    "    print(\"✅ Model saved successfully!\")\n",
    "else:\n",
    "    print(\"❌ Accuracy not good enough. Try improving the model.\")\n"
   ]
  },
  {
   "cell_type": "code",
   "execution_count": null,
   "id": "6bdb8ac4",
   "metadata": {},
   "outputs": [],
   "source": []
  }
 ],
 "metadata": {
  "kernelspec": {
   "display_name": "torchenv",
   "language": "python",
   "name": "python3"
  },
  "language_info": {
   "codemirror_mode": {
    "name": "ipython",
    "version": 3
   },
   "file_extension": ".py",
   "mimetype": "text/x-python",
   "name": "python",
   "nbconvert_exporter": "python",
   "pygments_lexer": "ipython3",
   "version": "3.9.13"
  }
 },
 "nbformat": 4,
 "nbformat_minor": 5
}
